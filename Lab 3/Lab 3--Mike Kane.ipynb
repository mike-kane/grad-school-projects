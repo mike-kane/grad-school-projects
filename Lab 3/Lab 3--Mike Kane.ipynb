{
 "cells": [
  {
   "cell_type": "code",
   "execution_count": 1,
   "metadata": {},
   "outputs": [
    {
     "name": "stderr",
     "output_type": "stream",
     "text": [
      "Using TensorFlow backend.\n"
     ]
    },
    {
     "data": {
      "text/plain": [
       "['/gpu:0']"
      ]
     },
     "execution_count": 1,
     "metadata": {},
     "output_type": "execute_result"
    }
   ],
   "source": [
    "# Double check that keras can access the GPU\n",
    "from keras import backend as K\n",
    "K.tensorflow_backend._get_available_gpus()"
   ]
  },
  {
   "cell_type": "code",
   "execution_count": 2,
   "metadata": {},
   "outputs": [],
   "source": [
    "import pandas as pd\n",
    "import numpy as np\n",
    "import matplotlib.pyplot as plt\n",
    "%matplotlib inline\n",
    "import keras\n",
    "from keras.datasets import fashion_mnist\n",
    "from keras.models import Sequential\n",
    "from keras.layers import Dense, Conv2D, Flatten, Dropout, BatchNormalization, MaxPooling2D"
   ]
  },
  {
   "cell_type": "code",
   "execution_count": 3,
   "metadata": {},
   "outputs": [],
   "source": [
    "# Load in training and testing data.  \n",
    "# Fashion_mnist dataset has a bug that makes the dataset loaded read-only.\n",
    "# Read in the dataset and then copy to a different variable during normalization step to work around this.  \n",
    "(X_train_0, y_train), (X_test_0, y_test) = fashion_mnist.load_data()"
   ]
  },
  {
   "cell_type": "code",
   "execution_count": 4,
   "metadata": {},
   "outputs": [],
   "source": [
    "NUM_CLASSES = 10"
   ]
  },
  {
   "cell_type": "code",
   "execution_count": 5,
   "metadata": {},
   "outputs": [],
   "source": [
    "# Create flattened version of data for use in vanilla deep NN (28 x 28 = 784)\n",
    "flat_X_train = X_train_0.reshape(60000, 784).astype('float32')\n",
    "flat_X_test = X_test_0.reshape(10000, 784).astype('float32')\n",
    "X_train = X_train_0.reshape(60000, 28, 28, 1).astype('float32')\n",
    "X_test = X_test_0.reshape(10000, 28, 28, 1).astype('float32')\n",
    "# Normalize data for CNN model. These examples are still 28 x 28 matrices. \n",
    "X_train = X_train / 255.\n",
    "X_test = X_test / 255.\n",
    "\n",
    "# Normalize data for vanilla Deep NN model.  \n",
    "flat_X_train /= 255.\n",
    "flat_X_test /= 255.\n",
    "\n",
    "# Convert labels to one-hot vectors\n",
    "y_train = keras.utils.to_categorical(y_train, NUM_CLASSES)\n",
    "y_test = keras.utils.to_categorical(y_test, NUM_CLASSES)"
   ]
  },
  {
   "cell_type": "code",
   "execution_count": 6,
   "metadata": {},
   "outputs": [
    {
     "name": "stdout",
     "output_type": "stream",
     "text": [
      "_________________________________________________________________\n",
      "Layer (type)                 Output Shape              Param #   \n",
      "=================================================================\n",
      "dense_1 (Dense)              (None, 256)               200960    \n",
      "_________________________________________________________________\n",
      "dropout_1 (Dropout)          (None, 256)               0         \n",
      "_________________________________________________________________\n",
      "batch_normalization_1 (Batch (None, 256)               1024      \n",
      "_________________________________________________________________\n",
      "dense_2 (Dense)              (None, 128)               32896     \n",
      "_________________________________________________________________\n",
      "dropout_2 (Dropout)          (None, 128)               0         \n",
      "_________________________________________________________________\n",
      "batch_normalization_2 (Batch (None, 128)               512       \n",
      "_________________________________________________________________\n",
      "dense_3 (Dense)              (None, 10)                1290      \n",
      "=================================================================\n",
      "Total params: 236,682\n",
      "Trainable params: 235,914\n",
      "Non-trainable params: 768\n",
      "_________________________________________________________________\n"
     ]
    }
   ],
   "source": [
    "# Begin building Vanilla Deep NN.  \n",
    "deep_nn = Sequential()\n",
    "deep_nn.add(Dense(256, activation='relu', input_shape=(784,)))\n",
    "deep_nn.add(Dropout(0.5))\n",
    "deep_nn.add(BatchNormalization())\n",
    "deep_nn.add(Dense(128, activation='relu'))\n",
    "deep_nn.add(Dropout(0.5))\n",
    "deep_nn.add(BatchNormalization())\n",
    "deep_nn.add(Dense(NUM_CLASSES, activation='softmax'))\n",
    "\n",
    "deep_nn.compile(loss='categorical_crossentropy', optimizer='adam', metrics=['accuracy'])\n",
    "deep_nn.summary()"
   ]
  },
  {
   "cell_type": "code",
   "execution_count": 7,
   "metadata": {},
   "outputs": [],
   "source": [
    "tb_callback = keras.callbacks.TensorBoard(log_dir='./logs', histogram_freq=1, batch_size=32, \n",
    "                            write_graph=True, write_grads=True, write_images=True, \n",
    "                            embeddings_freq=0, embeddings_layer_names=None, \n",
    "                            embeddings_metadata=None)"
   ]
  },
  {
   "cell_type": "code",
   "execution_count": 8,
   "metadata": {},
   "outputs": [
    {
     "name": "stdout",
     "output_type": "stream",
     "text": [
      "Train on 60000 samples, validate on 10000 samples\n",
      "Epoch 1/10\n",
      "60000/60000 [==============================] - 15s 242us/step - loss: 0.8045 - acc: 0.7147 - val_loss: 0.5273 - val_acc: 0.8044\n",
      "Epoch 2/10\n",
      "60000/60000 [==============================] - 13s 210us/step - loss: 0.6520 - acc: 0.7683 - val_loss: 0.4866 - val_acc: 0.8249\n",
      "Epoch 3/10\n",
      "60000/60000 [==============================] - 13s 210us/step - loss: 0.6094 - acc: 0.7857 - val_loss: 0.4464 - val_acc: 0.8402\n",
      "Epoch 4/10\n",
      "60000/60000 [==============================] - 13s 211us/step - loss: 0.5960 - acc: 0.7907 - val_loss: 0.4514 - val_acc: 0.8395\n",
      "Epoch 5/10\n",
      "60000/60000 [==============================] - 13s 213us/step - loss: 0.5896 - acc: 0.7943 - val_loss: 0.4451 - val_acc: 0.8399\n",
      "Epoch 6/10\n",
      "60000/60000 [==============================] - 13s 215us/step - loss: 0.5665 - acc: 0.8009 - val_loss: 0.4507 - val_acc: 0.8337\n",
      "Epoch 7/10\n",
      "60000/60000 [==============================] - 13s 215us/step - loss: 0.5548 - acc: 0.8055 - val_loss: 0.4392 - val_acc: 0.8375\n",
      "Epoch 8/10\n",
      "60000/60000 [==============================] - 13s 220us/step - loss: 0.5508 - acc: 0.8044 - val_loss: 0.4412 - val_acc: 0.8407\n",
      "Epoch 9/10\n",
      "60000/60000 [==============================] - 13s 220us/step - loss: 0.5433 - acc: 0.8078 - val_loss: 0.4299 - val_acc: 0.8479\n",
      "Epoch 10/10\n",
      "60000/60000 [==============================] - 13s 217us/step - loss: 0.5328 - acc: 0.8105 - val_loss: 0.4214 - val_acc: 0.8468\n"
     ]
    },
    {
     "data": {
      "text/plain": [
       "<keras.callbacks.History at 0x25fddfe44a8>"
      ]
     },
     "execution_count": 8,
     "metadata": {},
     "output_type": "execute_result"
    }
   ],
   "source": [
    "deep_nn.fit(flat_X_train, y_train, epochs=10, validation_data=(flat_X_test, y_test), callbacks=[tb_callback])"
   ]
  },
  {
   "cell_type": "code",
   "execution_count": 16,
   "metadata": {},
   "outputs": [],
   "source": [
    "keras.backend.clear_session()"
   ]
  },
  {
   "cell_type": "code",
   "execution_count": 17,
   "metadata": {},
   "outputs": [
    {
     "name": "stdout",
     "output_type": "stream",
     "text": [
      "_________________________________________________________________\n",
      "Layer (type)                 Output Shape              Param #   \n",
      "=================================================================\n",
      "conv2d_1 (Conv2D)            (None, 28, 28, 64)        640       \n",
      "_________________________________________________________________\n",
      "max_pooling2d_1 (MaxPooling2 (None, 14, 14, 64)        0         \n",
      "_________________________________________________________________\n",
      "conv2d_2 (Conv2D)            (None, 14, 14, 64)        36928     \n",
      "_________________________________________________________________\n",
      "max_pooling2d_2 (MaxPooling2 (None, 7, 7, 64)          0         \n",
      "_________________________________________________________________\n",
      "flatten_1 (Flatten)          (None, 3136)              0         \n",
      "_________________________________________________________________\n",
      "dense_1 (Dense)              (None, 128)               401536    \n",
      "_________________________________________________________________\n",
      "dropout_1 (Dropout)          (None, 128)               0         \n",
      "_________________________________________________________________\n",
      "batch_normalization_1 (Batch (None, 128)               512       \n",
      "_________________________________________________________________\n",
      "dense_2 (Dense)              (None, 10)                1290      \n",
      "=================================================================\n",
      "Total params: 440,906\n",
      "Trainable params: 440,650\n",
      "Non-trainable params: 256\n",
      "_________________________________________________________________\n"
     ]
    }
   ],
   "source": [
    "cnn_model = Sequential()\n",
    "cnn_model.add(Conv2D(64, (3, 3), padding='same', activation='relu', input_shape=X_train.shape[1:]))\n",
    "cnn_model.add(MaxPooling2D(pool_size=(2, 2)))\n",
    "cnn_model.add(Conv2D(64, (3, 3), padding='same', activation='relu'))\n",
    "cnn_model.add(MaxPooling2D(pool_size=(2, 2)))\n",
    "cnn_model.add(Flatten())\n",
    "cnn_model.add(Dense(128, activation='relu'))\n",
    "cnn_model.add(Dropout(0.5))\n",
    "cnn_model.add(BatchNormalization())\n",
    "cnn_model.add(Dense(NUM_CLASSES, activation='softmax'))\n",
    "cnn_model.summary()"
   ]
  },
  {
   "cell_type": "code",
   "execution_count": 18,
   "metadata": {},
   "outputs": [],
   "source": [
    "cnn_model.compile(loss='categorical_crossentropy', optimizer='adam', metrics=['accuracy'])"
   ]
  },
  {
   "cell_type": "code",
   "execution_count": 19,
   "metadata": {},
   "outputs": [],
   "source": [
    "cnn_tb_callback = keras.callbacks.TensorBoard(log_dir='./cnn_logs', histogram_freq=1, batch_size=32, \n",
    "                            write_graph=True, write_grads=True, write_images=True, \n",
    "                            embeddings_freq=0, embeddings_layer_names=None, \n",
    "                            embeddings_metadata=None)"
   ]
  },
  {
   "cell_type": "code",
   "execution_count": 20,
   "metadata": {},
   "outputs": [
    {
     "name": "stdout",
     "output_type": "stream",
     "text": [
      "Train on 60000 samples, validate on 10000 samples\n",
      "Epoch 1/15\n",
      "60000/60000 [==============================] - 27s 457us/step - loss: 0.5103 - acc: 0.8240 - val_loss: 0.3266 - val_acc: 0.8800\n",
      "Epoch 2/15\n",
      "60000/60000 [==============================] - 26s 431us/step - loss: 0.3717 - acc: 0.8695 - val_loss: 0.2831 - val_acc: 0.8962\n",
      "Epoch 3/15\n",
      "60000/60000 [==============================] - 26s 433us/step - loss: 0.3334 - acc: 0.8821 - val_loss: 0.2741 - val_acc: 0.9038\n",
      "Epoch 4/15\n",
      "60000/60000 [==============================] - 26s 431us/step - loss: 0.3039 - acc: 0.8935 - val_loss: 0.2629 - val_acc: 0.9004\n",
      "Epoch 5/15\n",
      "60000/60000 [==============================] - 26s 440us/step - loss: 0.2832 - acc: 0.8992 - val_loss: 0.2531 - val_acc: 0.9063\n",
      "Epoch 6/15\n",
      "60000/60000 [==============================] - 27s 443us/step - loss: 0.2724 - acc: 0.9037 - val_loss: 0.2445 - val_acc: 0.9083\n",
      "Epoch 7/15\n",
      "60000/60000 [==============================] - 26s 436us/step - loss: 0.2598 - acc: 0.9081 - val_loss: 0.2414 - val_acc: 0.9151\n",
      "Epoch 8/15\n",
      "60000/60000 [==============================] - 27s 448us/step - loss: 0.2514 - acc: 0.9111 - val_loss: 0.2941 - val_acc: 0.8916\n",
      "Epoch 9/15\n",
      "60000/60000 [==============================] - 26s 441us/step - loss: 0.2446 - acc: 0.9138 - val_loss: 0.2300 - val_acc: 0.9148\n",
      "Epoch 10/15\n",
      "60000/60000 [==============================] - 27s 446us/step - loss: 0.2282 - acc: 0.9190 - val_loss: 0.2429 - val_acc: 0.9145\n",
      "Epoch 11/15\n",
      "60000/60000 [==============================] - 27s 444us/step - loss: 0.2221 - acc: 0.9193 - val_loss: 0.2250 - val_acc: 0.9203\n",
      "Epoch 12/15\n",
      "60000/60000 [==============================] - 27s 446us/step - loss: 0.2188 - acc: 0.9223 - val_loss: 0.2268 - val_acc: 0.9208\n",
      "Epoch 13/15\n",
      "60000/60000 [==============================] - 27s 452us/step - loss: 0.2180 - acc: 0.9222 - val_loss: 0.2319 - val_acc: 0.9182\n",
      "Epoch 14/15\n",
      "60000/60000 [==============================] - 28s 461us/step - loss: 0.2090 - acc: 0.9239 - val_loss: 0.2330 - val_acc: 0.9203\n",
      "Epoch 15/15\n",
      "60000/60000 [==============================] - 27s 453us/step - loss: 0.1998 - acc: 0.9288 - val_loss: 0.2545 - val_acc: 0.9090\n"
     ]
    },
    {
     "data": {
      "text/plain": [
       "<keras.callbacks.History at 0x261a7689978>"
      ]
     },
     "execution_count": 20,
     "metadata": {},
     "output_type": "execute_result"
    }
   ],
   "source": [
    "cnn_model.fit(X_train, y_train, epochs=15, batch_size=16, validation_data=(X_test, y_test), callbacks=[cnn_tb_callback])"
   ]
  },
  {
   "cell_type": "markdown",
   "metadata": {},
   "source": [
    "Judging by the drop in accuracy at Epoch 15, the model is either thrashing a bit, or is beginning to overfit.  If this was a model I was planning on shipping to production, I'd attack this problem during hyperparameter tuning--likely by tweaking the dropout percentage rate, as well as seeing if adding a decay to the learning rate increases performance.  "
   ]
  },
  {
   "cell_type": "code",
   "execution_count": null,
   "metadata": {},
   "outputs": [],
   "source": []
  }
 ],
 "metadata": {
  "kernelspec": {
   "display_name": "Python 3",
   "language": "python",
   "name": "python3"
  },
  "language_info": {
   "codemirror_mode": {
    "name": "ipython",
    "version": 3
   },
   "file_extension": ".py",
   "mimetype": "text/x-python",
   "name": "python",
   "nbconvert_exporter": "python",
   "pygments_lexer": "ipython3",
   "version": "3.6.4"
  }
 },
 "nbformat": 4,
 "nbformat_minor": 2
}
